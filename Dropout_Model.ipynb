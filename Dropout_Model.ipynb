{
 "cells": [
  {
   "cell_type": "code",
   "execution_count": 1,
   "id": "c1a10dac",
   "metadata": {},
   "outputs": [],
   "source": [
    "train_dir = 'D:/Perkuliahan/S2/Semester 4/google_images/jatengdiy_class_colab/train/'\n",
    "test_dir = 'D:/Perkuliahan/S2/Semester 4/google_images/jatengdiy_class_colab/test/'"
   ]
  },
  {
   "cell_type": "code",
   "execution_count": 2,
   "id": "dfa54653",
   "metadata": {},
   "outputs": [
    {
     "name": "stdout",
     "output_type": "stream",
     "text": [
      "Total number of images for \"training\":\n",
      "Found 9649 images belonging to 3 classes.\n",
      "Total number of images for \"testing\":\n",
      "Found 2412 images belonging to 3 classes.\n"
     ]
    }
   ],
   "source": [
    "#Number of images to load at each iteration\n",
    "import tensorflow as tf\n",
    "from keras_preprocessing.image import ImageDataGenerator\n",
    "\n",
    "img_height, img_width = 224,224\n",
    "\n",
    "batch_size = 32\n",
    "\n",
    "train_datagen =  ImageDataGenerator(rescale=1./255)\n",
    "test_datagen =  ImageDataGenerator(rescale=1./255)\n",
    "\n",
    "# these are generators for train/test data that will read pictures #found in the defined subfolders of 'data/'\n",
    "print('Total number of images for \"training\":')\n",
    "train_generator = train_datagen.flow_from_directory(train_dir,target_size = (img_height, img_width),\n",
    "                                                    batch_size = batch_size,class_mode = \"categorical\",\n",
    "                                                    shuffle=True)\n",
    "\n",
    "print('Total number of images for \"testing\":')\n",
    "test_generator = test_datagen.flow_from_directory(test_dir,target_size = (img_height, img_width),\n",
    "                                                 batch_size = batch_size,class_mode = \"categorical\",\n",
    "                                                 shuffle=False)"
   ]
  },
  {
   "cell_type": "code",
   "execution_count": 3,
   "id": "a131fc71",
   "metadata": {},
   "outputs": [],
   "source": [
    "import tensorflow as tf\n",
    "from keras_preprocessing.image import ImageDataGenerator\n",
    "from keras.applications.vgg16 import VGG16 \n",
    "from keras.applications.vgg16 import preprocess_input\n",
    "from keras.layers.core import Activation\n",
    "from keras.layers.core import Flatten\n",
    "from keras.layers.core import Dense\n",
    "from keras.layers import Dropout\n",
    "from tensorflow import keras\n",
    "from keras.models import Sequential"
   ]
  },
  {
   "cell_type": "code",
   "execution_count": 4,
   "id": "252e85d0",
   "metadata": {},
   "outputs": [],
   "source": [
    "# Checkpoint\n",
    "from keras.callbacks import ModelCheckpoint, EarlyStopping, ReduceLROnPlateau\n",
    "checkpoint_filepath = 'D:/My Scripts/Github/Poverty Estimation/VGG16/Dropout_Model.h5'\n",
    "model_checkpoint_callback = keras.callbacks.ModelCheckpoint(\n",
    "    filepath=checkpoint_filepath,\n",
    "    save_weights_only=True,\n",
    "    monitor='val_loss',\n",
    "    mode='min',\n",
    "    verbose=1,\n",
    "    save_best_only=True)\n",
    "\n",
    "earlystop = EarlyStopping(monitor = 'val_loss', \n",
    "                          min_delta = 1e-5, \n",
    "                          patience = 10,\n",
    "                          verbose = 1,\n",
    "                          restore_best_weights = True)\n",
    "\n",
    "# we put our call backs into a callback list\n",
    "callbacks = [earlystop, model_checkpoint_callback]"
   ]
  },
  {
   "cell_type": "code",
   "execution_count": 5,
   "id": "c4a6f7f2",
   "metadata": {},
   "outputs": [],
   "source": [
    "# Base Model\n",
    "conv_base = VGG16(weights='imagenet', include_top=False, input_shape = (img_width, img_height, 3))\n",
    "for layer in conv_base.layers[:15]:\n",
    "    layer.trainable=False\n",
    "\n",
    "for layer in conv_base.layers[15:]:\n",
    "    layer.trainable=True"
   ]
  },
  {
   "cell_type": "code",
   "execution_count": 6,
   "id": "532085c2",
   "metadata": {},
   "outputs": [
    {
     "name": "stdout",
     "output_type": "stream",
     "text": [
      "Model: \"sequential\"\n",
      "_________________________________________________________________\n",
      " Layer (type)                Output Shape              Param #   \n",
      "=================================================================\n",
      " vgg16 (Functional)          (None, 7, 7, 512)         14714688  \n",
      "                                                                 \n",
      " flatten (Flatten)           (None, 25088)             0         \n",
      "                                                                 \n",
      " dropout (Dropout)           (None, 25088)             0         \n",
      "                                                                 \n",
      " my_dense (Dense)            (None, 32)                802848    \n",
      "                                                                 \n",
      " dropout_1 (Dropout)         (None, 32)                0         \n",
      "                                                                 \n",
      " dense (Dense)               (None, 3)                 99        \n",
      "                                                                 \n",
      "=================================================================\n",
      "Total params: 15,517,635\n",
      "Trainable params: 7,882,371\n",
      "Non-trainable params: 7,635,264\n",
      "_________________________________________________________________\n"
     ]
    }
   ],
   "source": [
    "model_drop = Sequential()\n",
    "model_drop.add(conv_base)\n",
    "model_drop.add(Flatten(name='flatten'))\n",
    "model_drop.add(Dropout(0.5))\n",
    "model_drop.add(Dense(32, name='my_dense', activation = 'relu'))\n",
    "model_drop.add(Dropout(0.5))\n",
    "model_drop.add(Dense(3, activation='softmax'))\n",
    "model_drop.summary()\n",
    "\n",
    "opt = tf.keras.optimizers.Adam(learning_rate=1e-3)\n",
    "model_drop.compile(loss=\"categorical_crossentropy\", optimizer=opt, metrics=[\"accuracy\"])"
   ]
  },
  {
   "cell_type": "code",
   "execution_count": 7,
   "id": "4e72b423",
   "metadata": {},
   "outputs": [
    {
     "name": "stdout",
     "output_type": "stream",
     "text": [
      "Epoch 1/100\n",
      "302/302 [==============================] - ETA: 0s - loss: 0.9164 - accuracy: 0.5416\n",
      "Epoch 1: val_loss improved from inf to 0.73786, saving model to D:/My Scripts/Github/Poverty Estimation/VGG16\\Dropout_Model.h5\n",
      "302/302 [==============================] - 55s 158ms/step - loss: 0.9164 - accuracy: 0.5416 - val_loss: 0.7379 - val_accuracy: 0.6439\n",
      "Epoch 2/100\n",
      "302/302 [==============================] - ETA: 0s - loss: 0.7477 - accuracy: 0.6582\n",
      "Epoch 2: val_loss improved from 0.73786 to 0.67790, saving model to D:/My Scripts/Github/Poverty Estimation/VGG16\\Dropout_Model.h5\n",
      "302/302 [==============================] - 49s 161ms/step - loss: 0.7477 - accuracy: 0.6582 - val_loss: 0.6779 - val_accuracy: 0.6787\n",
      "Epoch 3/100\n",
      "302/302 [==============================] - ETA: 0s - loss: 0.7020 - accuracy: 0.6748\n",
      "Epoch 3: val_loss improved from 0.67790 to 0.60382, saving model to D:/My Scripts/Github/Poverty Estimation/VGG16\\Dropout_Model.h5\n",
      "302/302 [==============================] - 51s 168ms/step - loss: 0.7020 - accuracy: 0.6748 - val_loss: 0.6038 - val_accuracy: 0.7396\n",
      "Epoch 4/100\n",
      "302/302 [==============================] - ETA: 0s - loss: 0.6636 - accuracy: 0.7048\n",
      "Epoch 4: val_loss improved from 0.60382 to 0.57812, saving model to D:/My Scripts/Github/Poverty Estimation/VGG16\\Dropout_Model.h5\n",
      "302/302 [==============================] - 51s 168ms/step - loss: 0.6636 - accuracy: 0.7048 - val_loss: 0.5781 - val_accuracy: 0.7488\n",
      "Epoch 5/100\n",
      "302/302 [==============================] - ETA: 0s - loss: 0.6587 - accuracy: 0.7082\n",
      "Epoch 5: val_loss did not improve from 0.57812\n",
      "302/302 [==============================] - 51s 169ms/step - loss: 0.6587 - accuracy: 0.7082 - val_loss: 0.6059 - val_accuracy: 0.7450\n",
      "Epoch 6/100\n",
      "302/302 [==============================] - ETA: 0s - loss: 0.6397 - accuracy: 0.7162\n",
      "Epoch 6: val_loss improved from 0.57812 to 0.57716, saving model to D:/My Scripts/Github/Poverty Estimation/VGG16\\Dropout_Model.h5\n",
      "302/302 [==============================] - 54s 177ms/step - loss: 0.6397 - accuracy: 0.7162 - val_loss: 0.5772 - val_accuracy: 0.7570\n",
      "Epoch 7/100\n",
      "302/302 [==============================] - ETA: 0s - loss: 0.6443 - accuracy: 0.7102\n",
      "Epoch 7: val_loss did not improve from 0.57716\n",
      "302/302 [==============================] - 54s 178ms/step - loss: 0.6443 - accuracy: 0.7102 - val_loss: 0.7093 - val_accuracy: 0.7098\n",
      "Epoch 8/100\n",
      "302/302 [==============================] - ETA: 0s - loss: 0.6166 - accuracy: 0.7242\n",
      "Epoch 8: val_loss improved from 0.57716 to 0.56663, saving model to D:/My Scripts/Github/Poverty Estimation/VGG16\\Dropout_Model.h5\n",
      "302/302 [==============================] - 55s 181ms/step - loss: 0.6166 - accuracy: 0.7242 - val_loss: 0.5666 - val_accuracy: 0.7554\n",
      "Epoch 9/100\n",
      "302/302 [==============================] - ETA: 0s - loss: 0.5985 - accuracy: 0.7381\n",
      "Epoch 9: val_loss did not improve from 0.56663\n",
      "302/302 [==============================] - 55s 182ms/step - loss: 0.5985 - accuracy: 0.7381 - val_loss: 0.6277 - val_accuracy: 0.7504\n",
      "Epoch 10/100\n",
      "302/302 [==============================] - ETA: 0s - loss: 0.5976 - accuracy: 0.7415\n",
      "Epoch 10: val_loss did not improve from 0.56663\n",
      "302/302 [==============================] - 55s 180ms/step - loss: 0.5976 - accuracy: 0.7415 - val_loss: 0.5694 - val_accuracy: 0.7579\n",
      "Epoch 11/100\n",
      "302/302 [==============================] - ETA: 0s - loss: 0.5856 - accuracy: 0.7480\n",
      "Epoch 11: val_loss did not improve from 0.56663\n",
      "302/302 [==============================] - 55s 181ms/step - loss: 0.5856 - accuracy: 0.7480 - val_loss: 0.5896 - val_accuracy: 0.7529\n",
      "Epoch 12/100\n",
      "302/302 [==============================] - ETA: 0s - loss: 0.5665 - accuracy: 0.7609\n",
      "Epoch 12: val_loss improved from 0.56663 to 0.55813, saving model to D:/My Scripts/Github/Poverty Estimation/VGG16\\Dropout_Model.h5\n",
      "302/302 [==============================] - 55s 180ms/step - loss: 0.5665 - accuracy: 0.7609 - val_loss: 0.5581 - val_accuracy: 0.7562\n",
      "Epoch 13/100\n",
      "302/302 [==============================] - ETA: 0s - loss: 0.5589 - accuracy: 0.7583\n",
      "Epoch 13: val_loss did not improve from 0.55813\n",
      "302/302 [==============================] - 55s 182ms/step - loss: 0.5589 - accuracy: 0.7583 - val_loss: 0.5806 - val_accuracy: 0.7662\n",
      "Epoch 14/100\n",
      "302/302 [==============================] - ETA: 0s - loss: 0.5629 - accuracy: 0.7603\n",
      "Epoch 14: val_loss improved from 0.55813 to 0.54057, saving model to D:/My Scripts/Github/Poverty Estimation/VGG16\\Dropout_Model.h5\n",
      "302/302 [==============================] - 54s 180ms/step - loss: 0.5629 - accuracy: 0.7603 - val_loss: 0.5406 - val_accuracy: 0.7670\n",
      "Epoch 15/100\n",
      "302/302 [==============================] - ETA: 0s - loss: 0.5388 - accuracy: 0.7656\n",
      "Epoch 15: val_loss did not improve from 0.54057\n",
      "302/302 [==============================] - 53s 175ms/step - loss: 0.5388 - accuracy: 0.7656 - val_loss: 0.5742 - val_accuracy: 0.7541\n",
      "Epoch 16/100\n",
      "302/302 [==============================] - ETA: 0s - loss: 0.5327 - accuracy: 0.7731\n",
      "Epoch 16: val_loss did not improve from 0.54057\n",
      "302/302 [==============================] - 52s 174ms/step - loss: 0.5327 - accuracy: 0.7731 - val_loss: 0.5670 - val_accuracy: 0.7641\n",
      "Epoch 17/100\n",
      "302/302 [==============================] - ETA: 0s - loss: 0.5177 - accuracy: 0.7774\n",
      "Epoch 17: val_loss did not improve from 0.54057\n",
      "302/302 [==============================] - 53s 175ms/step - loss: 0.5177 - accuracy: 0.7774 - val_loss: 0.5805 - val_accuracy: 0.7483\n",
      "Epoch 18/100\n",
      "302/302 [==============================] - ETA: 0s - loss: 0.5291 - accuracy: 0.7742\n",
      "Epoch 18: val_loss did not improve from 0.54057\n",
      "302/302 [==============================] - 53s 174ms/step - loss: 0.5291 - accuracy: 0.7742 - val_loss: 0.5874 - val_accuracy: 0.7450\n",
      "Epoch 19/100\n",
      "302/302 [==============================] - ETA: 0s - loss: 0.5054 - accuracy: 0.7843\n",
      "Epoch 19: val_loss did not improve from 0.54057\n",
      "302/302 [==============================] - 77s 256ms/step - loss: 0.5054 - accuracy: 0.7843 - val_loss: 0.5815 - val_accuracy: 0.7492\n",
      "Epoch 20/100\n",
      "302/302 [==============================] - ETA: 0s - loss: 0.4786 - accuracy: 0.7981\n",
      "Epoch 20: val_loss did not improve from 0.54057\n",
      "302/302 [==============================] - 50s 164ms/step - loss: 0.4786 - accuracy: 0.7981 - val_loss: 0.6114 - val_accuracy: 0.7454\n",
      "Epoch 21/100\n",
      "302/302 [==============================] - ETA: 0s - loss: 0.4698 - accuracy: 0.8093\n",
      "Epoch 21: val_loss did not improve from 0.54057\n",
      "302/302 [==============================] - 51s 170ms/step - loss: 0.4698 - accuracy: 0.8093 - val_loss: 0.6259 - val_accuracy: 0.7334\n",
      "Epoch 22/100\n",
      "302/302 [==============================] - ETA: 0s - loss: 0.4796 - accuracy: 0.7993\n",
      "Epoch 22: val_loss did not improve from 0.54057\n",
      "302/302 [==============================] - 52s 173ms/step - loss: 0.4796 - accuracy: 0.7993 - val_loss: 0.6824 - val_accuracy: 0.7417\n",
      "Epoch 23/100\n",
      "302/302 [==============================] - ETA: 0s - loss: 0.4349 - accuracy: 0.8199\n",
      "Epoch 23: val_loss did not improve from 0.54057\n",
      "302/302 [==============================] - 52s 173ms/step - loss: 0.4349 - accuracy: 0.8199 - val_loss: 0.7537 - val_accuracy: 0.7243\n",
      "Epoch 24/100\n",
      "302/302 [==============================] - ETA: 0s - loss: 0.4278 - accuracy: 0.8211Restoring model weights from the end of the best epoch: 14.\n",
      "\n",
      "Epoch 24: val_loss did not improve from 0.54057\n",
      "302/302 [==============================] - 52s 173ms/step - loss: 0.4278 - accuracy: 0.8211 - val_loss: 0.8077 - val_accuracy: 0.7604\n",
      "Epoch 24: early stopping\n"
     ]
    }
   ],
   "source": [
    "history_drop = model_drop.fit(train_generator, epochs=100, shuffle=True, \n",
    "                              validation_data=test_generator, callbacks=callbacks, \n",
    "                              verbose=1)"
   ]
  },
  {
   "cell_type": "code",
   "execution_count": 8,
   "id": "f71b15fb",
   "metadata": {},
   "outputs": [],
   "source": [
    "import matplotlib.pyplot as plt \n",
    "def plot_accuracy_loss(history):\n",
    "    \"\"\"\n",
    "        Plot the accuracy and the loss during the training of the nn.\n",
    "    \"\"\"\n",
    "    fig = plt.figure(figsize=(10,5))\n",
    "\n",
    "    # Plot accuracy\n",
    "    plt.subplot(221)\n",
    "    plt.plot(history.history['accuracy'],'bo--', label = \"accuracy\")\n",
    "    plt.plot(history.history['val_accuracy'], 'ro--', label = \"val_accuracy\")\n",
    "    plt.title(\"train_acc vs val_acc\")\n",
    "    plt.ylabel(\"accuracy\")\n",
    "    plt.xlabel(\"epochs\")\n",
    "    plt.legend()\n",
    "\n",
    "    # Plot loss function\n",
    "    plt.subplot(222)\n",
    "    plt.plot(history.history['loss'],'bo--', label = \"loss\")\n",
    "    plt.plot(history.history['val_loss'], 'ro--', label = \"val_loss\")\n",
    "    plt.title(\"train_loss vs val_loss\")\n",
    "    plt.ylabel(\"loss\")\n",
    "    plt.xlabel(\"epochs\")\n",
    "\n",
    "    plt.legend()\n",
    "    plt.show()"
   ]
  },
  {
   "cell_type": "code",
   "execution_count": 9,
   "id": "85f0a00a",
   "metadata": {},
   "outputs": [
    {
     "data": {
      "image/png": "[encoded data removed]",
      "text/plain": [
       "<Figure size 1000x500 with 2 Axes>"
      ]
     },
     "metadata": {},
     "output_type": "display_data"
    }
   ],
   "source": [
    "plot_accuracy_loss(history_drop)"
   ]
  },
  {
   "cell_type": "code",
   "execution_count": 10,
   "id": "e6606efd",
   "metadata": {},
   "outputs": [
    {
     "name": "stdout",
     "output_type": "stream",
     "text": [
      "[0.5405691266059875, 0.7669983506202698]\n"
     ]
    }
   ],
   "source": [
    "score_drop = model_drop.evaluate(test_generator, verbose=0)\n",
    "print(score_drop)"
   ]
  },
  {
   "cell_type": "code",
   "execution_count": 11,
   "id": "6ddd12ba",
   "metadata": {},
   "outputs": [],
   "source": [
    "import pandas as pd\n",
    "hist_df = pd.DataFrame(history_drop.history)\n",
    "hist_df.to_excel('D:/My Scripts/Github/Poverty Estimation/VGG16/Dropout_Model.xlsx')"
   ]
  },
  {
   "cell_type": "code",
   "execution_count": 7,
   "id": "5ccc612c",
   "metadata": {},
   "outputs": [
    {
     "name": "stdout",
     "output_type": "stream",
     "text": [
      "['top_left_x_coords', 'top_left_y_coords', 'bands_data']\n"
     ]
    }
   ],
   "source": [
    "import numpy as np\n",
    "npzfile = np.load('D:/Perkuliahan/S2/Semester 4/nightlight.npz')\n",
    "print(npzfile.files)\n",
    "top_left_x_coords = npzfile['top_left_x_coords']\n",
    "top_left_y_coords = npzfile['top_left_y_coords']\n",
    "bands_data = npzfile['bands_data']"
   ]
  },
  {
   "cell_type": "code",
   "execution_count": 10,
   "id": "f07c4392",
   "metadata": {},
   "outputs": [],
   "source": [
    "from keras.models import Model\n",
    "model_drop.load_weights('D:/My Scripts/Github/Poverty Estimation/VGG16/Dropout_Model.h5')\n",
    "model_select = Model(inputs=model_drop.input, outputs=model_drop.get_layer('my_dense').output)"
   ]
  },
  {
   "cell_type": "code",
   "execution_count": 11,
   "id": "b2377415",
   "metadata": {},
   "outputs": [],
   "source": [
    "import os\n",
    "\n",
    "def get_cell_idx(lon, lat, top_left_x_coords, top_left_y_coords):\n",
    "    lon_idx = np.where(top_left_x_coords < lon)[0][-1]\n",
    "    lat_idx = np.where(top_left_y_coords > lat)[0][-1]\n",
    "    return lon_idx, lat_idx\n",
    "\n",
    "images_name = {} \n",
    "for i in range(64):\n",
    "    dir_ = 'D:/Perkuliahan/S2/Semester 4/google_images/jatengdiy/' + str(i) + '/'\n",
    "    image_files = os.listdir(dir_)\n",
    "    for f in image_files:\n",
    "        images_name[f] = i\n",
    "\n",
    "def get_input_feature_2(img_path):\n",
    "    # img = image.load_img(img_path, target_size=(400, 400))\n",
    "    img = image.load_img(img_path, target_size=(224, 224))\n",
    "    x = image.img_to_array(img)\n",
    "    x = np.expand_dims(x, axis=0)\n",
    "    x = preprocess_input(x)\n",
    "    #features = model_old.predict(x)\n",
    "    pool_features = model_select.predict(x)\n",
    "    return pool_features[0]\n",
    "\n",
    "def get_daytime_feature(sample):\n",
    "    idx, wealth, x, y = sample\n",
    "    print(idx)\n",
    "    lon_idx, lat_idx = get_cell_idx(x, y, top_left_x_coords, top_left_y_coords)\n",
    "    left_idx = lon_idx - 23\n",
    "    right_idx = lon_idx + 22\n",
    "    up_idx = lat_idx - 23\n",
    "    low_idx = lat_idx + 22\n",
    "    features_100 = []\n",
    "    for i in range(left_idx, right_idx + 1):\n",
    "        for j in range(up_idx, low_idx + 1):\n",
    "            file_name = str(i) + '_' + str(j) + '.jpg'\n",
    "            if file_name in images_name:\n",
    "                luminosity = images_name[file_name]\n",
    "                feature = get_input_feature_2('D:/Perkuliahan/S2/Semester 4/google_images/jatengdiy/' + str(luminosity) + '/' + file_name)\n",
    "                features_100.append(feature)\n",
    "    if len(features_100) == 0:\n",
    "        print('nononono: ' + str(idx))\n",
    "        return np.asarray([np.nan] * 32 + [wealth]).tolist()\n",
    "    else:\n",
    "        features_100 = np.asarray(features_100)\n",
    "        return np.append(np.mean(features_100, axis=0), wealth).tolist()"
   ]
  },
  {
   "cell_type": "code",
   "execution_count": 12,
   "id": "6e95569f",
   "metadata": {},
   "outputs": [
    {
     "name": "stdout",
     "output_type": "stream",
     "text": [
      "Banjarnegara\n",
      "Bantul\n",
      "Banyumas\n",
      "Batang\n",
      "Blora\n",
      "Boyolali\n",
      "Brebes\n",
      "Cilacap\n",
      "Demak\n",
      "Grobogan\n",
      "Gunungkidul\n",
      "Jepara\n",
      "Karanganyar\n",
      "Kebumen\n",
      "Kendal\n",
      "Klaten\n",
      "Kota Magelang\n",
      "Kota Pekalongan\n",
      "Kota Salatiga\n",
      "Kota Semarang\n",
      "Kota Surakarta\n",
      "Kota Tegal\n",
      "Kota Yogyakarta\n",
      "Kudus\n",
      "Kulon Progo\n",
      "Magelang\n",
      "Pati\n",
      "Pekalongan\n",
      "Pemalang\n",
      "Purbalingga\n",
      "Purworejo\n",
      "Rembang\n",
      "Semarang\n",
      "Sleman\n",
      "Sragen\n",
      "Sukoharjo\n",
      "Tegal\n",
      "Temanggung\n",
      "Wonogiri\n",
      "Wonosobo\n"
     ]
    }
   ],
   "source": [
    "import pandas as pd\n",
    "from keras.preprocessing import image\n",
    "clusters = pd.read_excel('D:/Perkuliahan/S2/Semester 4/jatengdiy_coord.xlsx', sheet_name='tableau')\n",
    "clusters['feature'] = clusters.apply(lambda x: get_daytime_feature([x['Wadmkk'], x['Pengeluaran'], x['Longitude'], x['Latitude']]), axis=1)\n",
    "\n",
    "data_all = clusters['feature']\n",
    "data_all = np.asarray([i for i in data_all])\n",
    "data_all = data_all[~np.isnan(data_all).any(axis=1)]\n",
    "\n",
    "df = pd.DataFrame(data_all)\n",
    "df.to_excel('D:/My Scripts/Github/Poverty Estimation/VGG16/Dropout Model Extracted.xlsx')"
   ]
  },
  {
   "cell_type": "code",
   "execution_count": null,
   "id": "535385ed",
   "metadata": {},
   "outputs": [],
   "source": []
  }
 ],
 "metadata": {
  "kernelspec": {
   "display_name": "Python 3 (ipykernel)",
   "language": "python",
   "name": "python3"
  },
  "language_info": {
   "codemirror_mode": {
    "name": "ipython",
    "version": 3
   },
   "file_extension": ".py",
   "mimetype": "text/x-python",
   "name": "python",
   "nbconvert_exporter": "python",
   "pygments_lexer": "ipython3",
   "version": "3.9.7"
  }
 },
 "nbformat": 4,
 "nbformat_minor": 5
}
