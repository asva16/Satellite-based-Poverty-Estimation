{
  "nbformat": 4,
  "nbformat_minor": 0,
  "metadata": {
    "colab": {
      "provenance": [],
      "collapsed_sections": []
    },
    "kernelspec": {
      "name": "python3",
      "display_name": "Python 3"
    },
    "language_info": {
      "name": "python"
    }
  },
  "cells": [
    {
      "cell_type": "markdown",
      "source": [
        "Saving tiff file as npz"
      ],
      "metadata": {
        "id": "rpVGwtMjHXKB"
      }
    },
    {
      "cell_type": "code",
      "execution_count": null,
      "metadata": {
        "id": "iUIPnYlTGp_s"
      },
      "outputs": [],
      "source": [
        "import os\n",
        "import os.path\n",
        "from osgeo import gdal, ogr, osr\n",
        "from scipy import ndimage\n",
        "from scipy import misc\n",
        "from io import StringIO, BytesIO\n",
        "gdal.UseExceptions()\n",
        "import matplotlib as mpl\n",
        "import matplotlib.pyplot as plt\n",
        "from matplotlib import gridspec\n",
        "%matplotlib inline\n",
        "import urllib\n",
        "import pandas as pd\n",
        "import numpy as np"
      ]
    },
    {
      "cell_type": "code",
      "source": [
        "def read_raster(raster_file):\n",
        "    \"\"\"\n",
        "    Function\n",
        "    --------\n",
        "    read_raster\n",
        "\n",
        "    Given a raster file, get the pixel size, pixel location, and pixel value\n",
        "\n",
        "    Parameters\n",
        "    ----------\n",
        "    raster_file : string\n",
        "        Path to the raster file\n",
        "\n",
        "    Returns\n",
        "    -------\n",
        "    x_size : float\n",
        "        Pixel size\n",
        "    top_left_x_coords : numpy.ndarray  shape: (number of columns,)\n",
        "        Longitude of the top-left point in each pixel\n",
        "    top_left_y_coords : numpy.ndarray  shape: (number of rows,)\n",
        "        Latitude of the top-left point in each pixel\n",
        "    centroid_x_coords : numpy.ndarray  shape: (number of columns,)\n",
        "        Longitude of the centroid in each pixel\n",
        "    centroid_y_coords : numpy.ndarray  shape: (number of rows,)\n",
        "        Latitude of the centroid in each pixel\n",
        "    bands_data : numpy.ndarray  shape: (number of rows, number of columns, 1)\n",
        "        Pixel value\n",
        "    \"\"\"\n",
        "    raster_dataset = gdal.Open(raster_file, gdal.GA_ReadOnly)\n",
        "    # get project coordination\n",
        "    proj = raster_dataset.GetProjectionRef()\n",
        "    bands_data = []\n",
        "    # Loop through all raster bands\n",
        "    for b in range(1, raster_dataset.RasterCount + 1):\n",
        "        band = raster_dataset.GetRasterBand(b)\n",
        "        bands_data.append(band.ReadAsArray())\n",
        "        no_data_value = band.GetNoDataValue()\n",
        "    bands_data = np.dstack(bands_data)\n",
        "    rows, cols, n_bands = bands_data.shape\n",
        "\n",
        "    # Get the metadata of the raster\n",
        "    geo_transform = raster_dataset.GetGeoTransform()\n",
        "    (upper_left_x, x_size, x_rotation, upper_left_y, y_rotation, y_size) = geo_transform\n",
        "    \n",
        "    # Get location of each pixel\n",
        "    x_size = 1.0 / int(round(1 / float(x_size)))\n",
        "    y_size = - x_size\n",
        "    y_index = np.arange(bands_data.shape[0])\n",
        "    x_index = np.arange(bands_data.shape[1])\n",
        "    top_left_x_coords = upper_left_x + x_index * x_size\n",
        "    top_left_y_coords = upper_left_y + y_index * y_size\n",
        "    # Add half of the cell size to get the centroid of the cell\n",
        "    centroid_x_coords = top_left_x_coords + (x_size / 2)\n",
        "    centroid_y_coords = top_left_y_coords + (y_size / 2)\n",
        "\n",
        "    return (x_size, top_left_x_coords, top_left_y_coords, centroid_x_coords, centroid_y_coords, bands_data)\n",
        "\n",
        "\n",
        "# Helper function to get the pixel index of the point\n",
        "def get_cell_idx(lon, lat, top_left_x_coords, top_left_y_coords):\n",
        "    \"\"\"\n",
        "    Function\n",
        "    --------\n",
        "    get_cell_idx\n",
        "\n",
        "    Given a point location and all the pixel locations of the raster file,\n",
        "    get the column and row index of the point in the raster\n",
        "\n",
        "    Parameters\n",
        "    ----------\n",
        "    lon : float\n",
        "        Longitude of the point\n",
        "    lat : float\n",
        "        Latitude of the point\n",
        "    top_left_x_coords : numpy.ndarray  shape: (number of columns,)\n",
        "        Longitude of the top-left point in each pixel\n",
        "    top_left_y_coords : numpy.ndarray  shape: (number of rows,)\n",
        "        Latitude of the top-left point in each pixel\n",
        "    \n",
        "    Returns\n",
        "    -------\n",
        "    lon_idx : int\n",
        "        Column index\n",
        "    lat_idx : int\n",
        "        Row index\n",
        "    \"\"\"\n",
        "    lon_idx = np.where(top_left_x_coords < lon)[0][-1]\n",
        "    lat_idx = np.where(top_left_y_coords > lat)[0][-1]\n",
        "    return lon_idx, lat_idx\n"
      ],
      "metadata": {
        "id": "wNZxq25pHKfP"
      },
      "execution_count": null,
      "outputs": []
    },
    {
      "cell_type": "code",
      "source": [
        "raster_file = '.../Google Images/F182013.v4c_web.stable_lights.avg_vis.tif'\n",
        "x_size, top_left_x_coords, top_left_y_coords, centroid_x_coords, centroid_y_coords, bands_data = read_raster(raster_file)"
      ],
      "metadata": {
        "id": "VXuIwr-AHL5V"
      },
      "execution_count": null,
      "outputs": []
    },
    {
      "cell_type": "code",
      "source": [
        "# save the result in compressed format - see https://docs.scipy.org/doc/numpy/reference/generated/numpy.savez.html\n",
        "np.savez('.../Google Images/nightlight.npz', top_left_x_coords=top_left_x_coords, top_left_y_coords=top_left_y_coords, bands_data=bands_data)"
      ],
      "metadata": {
        "id": "K9HS3YtJHPKF"
      },
      "execution_count": null,
      "outputs": []
    },
    {
      "cell_type": "markdown",
      "source": [
        "Download daytime satellite imagery"
      ],
      "metadata": {
        "id": "FQDmEU2bHcbK"
      }
    },
    {
      "cell_type": "code",
      "source": [
        "# Helper function to read a shapefile\n",
        "def get_shp_extent(shp_file):\n",
        "    \"\"\"\n",
        "    Function\n",
        "    --------\n",
        "    get_shp_extent\n",
        "\n",
        "    Given a shapefile, get the extent (boundaries)\n",
        "\n",
        "    Parameters\n",
        "    ----------\n",
        "    shp_file : string\n",
        "        Path to the shapefile\n",
        "    \n",
        "    Returns\n",
        "    -------\n",
        "    extent : tuple\n",
        "        Boundary location of the shapefile (x_min, x_max, y_min, y_max)\n",
        "    \"\"\"\n",
        "    inDriver = ogr.GetDriverByName(\"ESRI Shapefile\")\n",
        "    inDataSource = inDriver.Open(inShapefile, 0)\n",
        "    inLayer = inDataSource.GetLayer()\n",
        "    extent = inLayer.GetExtent()\n",
        "    # x_min_shp, x_max_shp, y_min_shp, y_max_shp = extent\n",
        "    return extent"
      ],
      "metadata": {
        "id": "outWq7hRHeYr"
      },
      "execution_count": null,
      "outputs": []
    },
    {
      "cell_type": "code",
      "source": [
        "# Helper functions to download images from Google Maps API\n",
        "\n",
        "from retrying import retry\n",
        "import imageio\n",
        "\n",
        "@retry(wait_exponential_multiplier=1000, wait_exponential_max=3600000)\n",
        "def save_img(url, file_path, file_name):\n",
        "    \"\"\"\n",
        "    Function\n",
        "    --------\n",
        "    save_img\n",
        "\n",
        "    Given a url of the map, save the image\n",
        "\n",
        "    Parameters\n",
        "    ----------\n",
        "    url : string\n",
        "        URL of the map from Google Map Static API\n",
        "    file_path : string\n",
        "        Folder name of the map\n",
        "    file_name : string\n",
        "        File name\n",
        "    \n",
        "    Returns\n",
        "    -------\n",
        "    None\n",
        "    \"\"\"\n",
        "    a = urllib.request.urlopen(url).read()\n",
        "    b = BytesIO(a)\n",
        "    image = imageio.imread(b, pilmode=\"RGB\")\n",
        "    # when no image exists, api will return an image with the same color. \n",
        "    # and in the center of the image, it said'Sorry. We have no imagery here'.\n",
        "    # we should drop these images if large area of the image has the same color.\n",
        "    if np.array_equal(image[:,:10,:],image[:,10:20,:]):\n",
        "        pass\n",
        "    else:\n",
        "        imageio.imwrite(file_path + file_name, image[50:450, :, :])"
      ],
      "metadata": {
        "id": "oT_w-re2HfhA"
      },
      "execution_count": null,
      "outputs": []
    },
    {
      "cell_type": "code",
      "source": [
        "# Now read in the shapefile for Rwanda and extract the edges of the country\n",
        "inShapefile = \".../Google Images/Central Java and Yogyakarta.shp\"\n",
        "x_min_shp, x_max_shp, y_min_shp, y_max_shp = get_shp_extent(inShapefile)\n",
        "\n",
        "left_idx, top_idx = get_cell_idx(x_min_shp, y_max_shp, top_left_x_coords, top_left_y_coords)\n",
        "right_idx, bottom_idx = get_cell_idx(x_max_shp, y_min_shp, top_left_x_coords, top_left_y_coords)\n",
        "\n",
        "banyak_cell = (right_idx-left_idx+1)*(bottom_idx-top_idx+1)\n",
        "print(left_idx)\n",
        "print(right_idx)\n",
        "print(top_idx)\n",
        "print(bottom_idx)\n",
        "print(banyak_cell)"
      ],
      "metadata": {
        "id": "R2pfgYWrHgjG"
      },
      "execution_count": null,
      "outputs": []
    },
    {
      "cell_type": "code",
      "source": [
        "key = 'your_api_key'\n",
        "m = 1\n",
        "\n",
        "for i in range(left_idx, right_idx + 1):\n",
        "    for j in range(top_idx, bottom_idx + 1):\n",
        "        lon = centroid_x_coords[i]\n",
        "        lat = centroid_y_coords[j]\n",
        "        url = 'https://maps.googleapis.com/maps/api/staticmap?center=' + str(lat) + ',' + \\\n",
        "               str(lon) + '&zoom=16&size=400x500&maptype=satellite&key=' + key\n",
        "        lightness = bands_data[j, i, 0]\n",
        "        file_path = '.../Google Images/' + str(lightness) + '/'\n",
        "        if not os.path.isdir(file_path):\n",
        "            os.makedirs(file_path)\n",
        "        file_name = str(i) + '_' + str(j) +'.jpg'\n",
        "        save_img(url, file_path, file_name)\n",
        "        if m % 100 == 0:\n",
        "            print(m)\n",
        "        m += 1"
      ],
      "metadata": {
        "id": "3bja7r1IHreF"
      },
      "execution_count": null,
      "outputs": []
    }
  ]
}