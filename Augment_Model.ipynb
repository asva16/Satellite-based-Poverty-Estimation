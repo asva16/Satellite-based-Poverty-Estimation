{
 "cells": [
  {
   "cell_type": "code",
   "execution_count": 1,
   "id": "062dbdf4",
   "metadata": {},
   "outputs": [],
   "source": [
    "train_dir = 'D:/Perkuliahan/S2/Semester 4/google_images/jatengdiy_class_colab/train/'\n",
    "test_dir = 'D:/Perkuliahan/S2/Semester 4/google_images/jatengdiy_class_colab/test/'"
   ]
  },
  {
   "cell_type": "code",
   "execution_count": 2,
   "id": "a258dd5a",
   "metadata": {},
   "outputs": [
    {
     "name": "stdout",
     "output_type": "stream",
     "text": [
      "Total number of images for \"training\":\n",
      "Found 9649 images belonging to 3 classes.\n",
      "Total number of images for \"testing\":\n",
      "Found 2412 images belonging to 3 classes.\n"
     ]
    }
   ],
   "source": [
    "#Number of images to load at each iteration\n",
    "import tensorflow as tf\n",
    "from keras_preprocessing.image import ImageDataGenerator\n",
    "\n",
    "img_height, img_width = 224,224\n",
    "\n",
    "batch_size = 32\n",
    "\n",
    "train_datagen =  ImageDataGenerator(rescale=1./255,\n",
    "                                    rotation_range=10, # rotation\n",
    "                                    width_shift_range=0.2, # horizontal shift\n",
    "                                    height_shift_range=0.2, # vertical shift\n",
    "                                    zoom_range=0.2, # zoom\n",
    "                                    horizontal_flip=True, # horizontal flip\n",
    "                                    vertical_flip=True,\n",
    "                                    brightness_range=[0.8,1.01])\n",
    "test_datagen =  ImageDataGenerator(rescale=1./255)\n",
    "\n",
    "# these are generators for train/test data that will read pictures #found in the defined subfolders of 'data/'\n",
    "print('Total number of images for \"training\":')\n",
    "train_generator = train_datagen.flow_from_directory(train_dir,target_size = (img_height, img_width),\n",
    "                                                    batch_size = batch_size,class_mode = \"categorical\",\n",
    "                                                    shuffle=True)\n",
    "\n",
    "print('Total number of images for \"testing\":')\n",
    "test_generator = test_datagen.flow_from_directory(test_dir,target_size = (img_height, img_width),\n",
    "                                                 batch_size = batch_size,class_mode = \"categorical\",\n",
    "                                                 shuffle=True)"
   ]
  },
  {
   "cell_type": "code",
   "execution_count": 3,
   "id": "42b30b10",
   "metadata": {},
   "outputs": [],
   "source": [
    "import tensorflow as tf\n",
    "from keras_preprocessing.image import ImageDataGenerator\n",
    "from keras.applications.vgg16 import VGG16 \n",
    "from keras.applications.vgg16 import preprocess_input\n",
    "from keras.layers.core import Activation\n",
    "from keras.layers.core import Flatten\n",
    "from keras.layers.core import Dense\n",
    "from tensorflow import keras\n",
    "from keras.models import Sequential\n",
    "from keras.models import Model"
   ]
  },
  {
   "cell_type": "code",
   "execution_count": 5,
   "id": "030bf9a1",
   "metadata": {},
   "outputs": [],
   "source": [
    "# Checkpoint\n",
    "from keras.callbacks import ModelCheckpoint, EarlyStopping, ReduceLROnPlateau\n",
    "checkpoint_filepath = 'D:/My Scripts/Github/Poverty Estimation/VGG16/Augment_Model.h5'\n",
    "model_checkpoint_callback = keras.callbacks.ModelCheckpoint(\n",
    "    filepath=checkpoint_filepath,\n",
    "    save_weights_only=True,\n",
    "    monitor='val_loss',\n",
    "    mode='min',\n",
    "    verbose=1,\n",
    "    save_best_only=True)\n",
    "\n",
    "earlystop = EarlyStopping(monitor = 'val_loss', \n",
    "                          min_delta = 1e-5, \n",
    "                          patience = 10,\n",
    "                          verbose = 1,\n",
    "                          restore_best_weights = True)\n",
    "\n",
    "# we put our call backs into a callback list\n",
    "callbacks = [earlystop, model_checkpoint_callback]"
   ]
  },
  {
   "cell_type": "code",
   "execution_count": 4,
   "id": "f7715ea1",
   "metadata": {},
   "outputs": [],
   "source": [
    "# Base Model\n",
    "conv_base = VGG16(weights='imagenet', include_top=False, input_shape = (img_width, img_height, 3))\n",
    "for layer in conv_base.layers[:15]:\n",
    "    layer.trainable=False\n",
    "\n",
    "for layer in conv_base.layers[15:]:\n",
    "    layer.trainable=True"
   ]
  },
  {
   "cell_type": "code",
   "execution_count": 5,
   "id": "0c5dfb18",
   "metadata": {},
   "outputs": [
    {
     "name": "stdout",
     "output_type": "stream",
     "text": [
      "Model: \"sequential\"\n",
      "_________________________________________________________________\n",
      " Layer (type)                Output Shape              Param #   \n",
      "=================================================================\n",
      " vgg16 (Functional)          (None, 7, 7, 512)         14714688  \n",
      "                                                                 \n",
      " flatten (Flatten)           (None, 25088)             0         \n",
      "                                                                 \n",
      " my_dense (Dense)            (None, 32)                802848    \n",
      "                                                                 \n",
      " dense (Dense)               (None, 3)                 99        \n",
      "                                                                 \n",
      "=================================================================\n",
      "Total params: 15,517,635\n",
      "Trainable params: 7,882,371\n",
      "Non-trainable params: 7,635,264\n",
      "_________________________________________________________________\n"
     ]
    }
   ],
   "source": [
    "model_augment = Sequential()\n",
    "model_augment.add(conv_base)\n",
    "model_augment.add(Flatten(name='flatten'))\n",
    "model_augment.add(Dense(32, name='my_dense', activation = 'relu'))\n",
    "model_augment.add(Dense(3, activation='softmax'))\n",
    "model_augment.summary()\n",
    "\n",
    "opt = tf.keras.optimizers.Adam(learning_rate=1e-3)\n",
    "model_augment.compile(loss=\"categorical_crossentropy\", optimizer=opt, metrics=[\"accuracy\"])"
   ]
  },
  {
   "cell_type": "code",
   "execution_count": 8,
   "id": "bc4af8c4",
   "metadata": {},
   "outputs": [
    {
     "name": "stdout",
     "output_type": "stream",
     "text": [
      "Epoch 1/100\n",
      "302/302 [==============================] - ETA: 0s - loss: 0.9185 - accuracy: 0.5479\n",
      "Epoch 1: val_loss improved from inf to 0.82439, saving model to D:/My Scripts/Github/Poverty Estimation/VGG16\\Augment_Model.h5\n",
      "302/302 [==============================] - 228s 725ms/step - loss: 0.9185 - accuracy: 0.5479 - val_loss: 0.8244 - val_accuracy: 0.4909\n",
      "Epoch 2/100\n",
      "302/302 [==============================] - ETA: 0s - loss: 0.7173 - accuracy: 0.6688\n",
      "Epoch 2: val_loss improved from 0.82439 to 0.67646, saving model to D:/My Scripts/Github/Poverty Estimation/VGG16\\Augment_Model.h5\n",
      "302/302 [==============================] - 162s 537ms/step - loss: 0.7173 - accuracy: 0.6688 - val_loss: 0.6765 - val_accuracy: 0.6957\n",
      "Epoch 3/100\n",
      "302/302 [==============================] - ETA: 0s - loss: 0.6766 - accuracy: 0.6919\n",
      "Epoch 3: val_loss improved from 0.67646 to 0.60267, saving model to D:/My Scripts/Github/Poverty Estimation/VGG16\\Augment_Model.h5\n",
      "302/302 [==============================] - 151s 501ms/step - loss: 0.6766 - accuracy: 0.6919 - val_loss: 0.6027 - val_accuracy: 0.7289\n",
      "Epoch 4/100\n",
      "302/302 [==============================] - ETA: 0s - loss: 0.6406 - accuracy: 0.7142\n",
      "Epoch 4: val_loss improved from 0.60267 to 0.58380, saving model to D:/My Scripts/Github/Poverty Estimation/VGG16\\Augment_Model.h5\n",
      "302/302 [==============================] - 126s 417ms/step - loss: 0.6406 - accuracy: 0.7142 - val_loss: 0.5838 - val_accuracy: 0.7417\n",
      "Epoch 5/100\n",
      "302/302 [==============================] - ETA: 0s - loss: 0.6276 - accuracy: 0.7208\n",
      "Epoch 5: val_loss improved from 0.58380 to 0.57866, saving model to D:/My Scripts/Github/Poverty Estimation/VGG16\\Augment_Model.h5\n",
      "302/302 [==============================] - 127s 419ms/step - loss: 0.6276 - accuracy: 0.7208 - val_loss: 0.5787 - val_accuracy: 0.7438\n",
      "Epoch 6/100\n",
      "302/302 [==============================] - ETA: 0s - loss: 0.6087 - accuracy: 0.7252\n",
      "Epoch 6: val_loss did not improve from 0.57866\n",
      "302/302 [==============================] - 176s 582ms/step - loss: 0.6087 - accuracy: 0.7252 - val_loss: 0.5849 - val_accuracy: 0.7533\n",
      "Epoch 7/100\n",
      "302/302 [==============================] - ETA: 0s - loss: 0.6157 - accuracy: 0.7278\n",
      "Epoch 7: val_loss improved from 0.57866 to 0.57427, saving model to D:/My Scripts/Github/Poverty Estimation/VGG16\\Augment_Model.h5\n",
      "302/302 [==============================] - 126s 416ms/step - loss: 0.6157 - accuracy: 0.7278 - val_loss: 0.5743 - val_accuracy: 0.7521\n",
      "Epoch 8/100\n",
      "302/302 [==============================] - ETA: 0s - loss: 0.5992 - accuracy: 0.7346\n",
      "Epoch 8: val_loss improved from 0.57427 to 0.55721, saving model to D:/My Scripts/Github/Poverty Estimation/VGG16\\Augment_Model.h5\n",
      "302/302 [==============================] - 126s 418ms/step - loss: 0.5992 - accuracy: 0.7346 - val_loss: 0.5572 - val_accuracy: 0.7570\n",
      "Epoch 9/100\n",
      "302/302 [==============================] - ETA: 0s - loss: 0.5899 - accuracy: 0.7441\n",
      "Epoch 9: val_loss did not improve from 0.55721\n",
      "302/302 [==============================] - 126s 415ms/step - loss: 0.5899 - accuracy: 0.7441 - val_loss: 0.5850 - val_accuracy: 0.7450\n",
      "Epoch 10/100\n",
      "302/302 [==============================] - ETA: 0s - loss: 0.5920 - accuracy: 0.7356\n",
      "Epoch 10: val_loss improved from 0.55721 to 0.55582, saving model to D:/My Scripts/Github/Poverty Estimation/VGG16\\Augment_Model.h5\n",
      "302/302 [==============================] - 126s 418ms/step - loss: 0.5920 - accuracy: 0.7356 - val_loss: 0.5558 - val_accuracy: 0.7637\n",
      "Epoch 11/100\n",
      "302/302 [==============================] - ETA: 0s - loss: 0.5872 - accuracy: 0.7383\n",
      "Epoch 11: val_loss did not improve from 0.55582\n",
      "302/302 [==============================] - 126s 416ms/step - loss: 0.5872 - accuracy: 0.7383 - val_loss: 0.5607 - val_accuracy: 0.7550\n",
      "Epoch 12/100\n",
      "302/302 [==============================] - ETA: 0s - loss: 0.5767 - accuracy: 0.7436\n",
      "Epoch 12: val_loss improved from 0.55582 to 0.54510, saving model to D:/My Scripts/Github/Poverty Estimation/VGG16\\Augment_Model.h5\n",
      "302/302 [==============================] - 126s 417ms/step - loss: 0.5767 - accuracy: 0.7436 - val_loss: 0.5451 - val_accuracy: 0.7645\n",
      "Epoch 13/100\n",
      "302/302 [==============================] - ETA: 0s - loss: 0.5708 - accuracy: 0.7487\n",
      "Epoch 13: val_loss did not improve from 0.54510\n",
      "302/302 [==============================] - 139s 461ms/step - loss: 0.5708 - accuracy: 0.7487 - val_loss: 0.5633 - val_accuracy: 0.7604\n",
      "Epoch 14/100\n",
      "302/302 [==============================] - ETA: 0s - loss: 0.5663 - accuracy: 0.7496\n",
      "Epoch 14: val_loss did not improve from 0.54510\n",
      "302/302 [==============================] - 139s 459ms/step - loss: 0.5663 - accuracy: 0.7496 - val_loss: 0.5516 - val_accuracy: 0.7562\n",
      "Epoch 15/100\n",
      "302/302 [==============================] - ETA: 0s - loss: 0.5591 - accuracy: 0.7520\n",
      "Epoch 15: val_loss did not improve from 0.54510\n",
      "302/302 [==============================] - 139s 461ms/step - loss: 0.5591 - accuracy: 0.7520 - val_loss: 0.5650 - val_accuracy: 0.7425\n",
      "Epoch 16/100\n",
      "302/302 [==============================] - ETA: 0s - loss: 0.5632 - accuracy: 0.7512\n",
      "Epoch 16: val_loss did not improve from 0.54510\n",
      "302/302 [==============================] - 136s 449ms/step - loss: 0.5632 - accuracy: 0.7512 - val_loss: 0.5658 - val_accuracy: 0.7587\n",
      "Epoch 17/100\n",
      "302/302 [==============================] - ETA: 0s - loss: 0.5601 - accuracy: 0.7560\n",
      "Epoch 17: val_loss did not improve from 0.54510\n",
      "302/302 [==============================] - 156s 516ms/step - loss: 0.5601 - accuracy: 0.7560 - val_loss: 0.5515 - val_accuracy: 0.7612\n",
      "Epoch 18/100\n",
      "302/302 [==============================] - ETA: 0s - loss: 0.5518 - accuracy: 0.7513\n",
      "Epoch 18: val_loss did not improve from 0.54510\n",
      "302/302 [==============================] - 151s 499ms/step - loss: 0.5518 - accuracy: 0.7513 - val_loss: 0.5641 - val_accuracy: 0.7591\n",
      "Epoch 19/100\n",
      "302/302 [==============================] - ETA: 0s - loss: 0.5486 - accuracy: 0.7637\n",
      "Epoch 19: val_loss did not improve from 0.54510\n",
      "302/302 [==============================] - 146s 485ms/step - loss: 0.5486 - accuracy: 0.7637 - val_loss: 0.5775 - val_accuracy: 0.7463\n",
      "Epoch 20/100\n",
      "302/302 [==============================] - ETA: 0s - loss: 0.5499 - accuracy: 0.7588\n",
      "Epoch 20: val_loss did not improve from 0.54510\n",
      "302/302 [==============================] - 156s 516ms/step - loss: 0.5499 - accuracy: 0.7588 - val_loss: 0.5771 - val_accuracy: 0.7541\n",
      "Epoch 21/100\n",
      "302/302 [==============================] - ETA: 0s - loss: 0.5512 - accuracy: 0.7587\n",
      "Epoch 21: val_loss did not improve from 0.54510\n",
      "302/302 [==============================] - 153s 505ms/step - loss: 0.5512 - accuracy: 0.7587 - val_loss: 0.5834 - val_accuracy: 0.7392\n",
      "Epoch 22/100\n",
      "302/302 [==============================] - ETA: 0s - loss: 0.5532 - accuracy: 0.7585Restoring model weights from the end of the best epoch: 12.\n",
      "\n",
      "Epoch 22: val_loss did not improve from 0.54510\n",
      "302/302 [==============================] - 149s 493ms/step - loss: 0.5532 - accuracy: 0.7585 - val_loss: 0.5970 - val_accuracy: 0.7417\n",
      "Epoch 22: early stopping\n"
     ]
    }
   ],
   "source": [
    "history_augment = model_augment.fit(train_generator, epochs=100, shuffle=True, \n",
    "                              validation_data=test_generator, callbacks=callbacks, \n",
    "                              verbose=1)"
   ]
  },
  {
   "cell_type": "code",
   "execution_count": 9,
   "id": "85cc373b",
   "metadata": {},
   "outputs": [],
   "source": [
    "import matplotlib.pyplot as plt \n",
    "def plot_accuracy_loss(history):\n",
    "    \"\"\"\n",
    "        Plot the accuracy and the loss during the training of the nn.\n",
    "    \"\"\"\n",
    "    fig = plt.figure(figsize=(10,5))\n",
    "\n",
    "    # Plot accuracy\n",
    "    plt.subplot(221)\n",
    "    plt.plot(history.history['accuracy'],'bo--', label = \"accuracy\")\n",
    "    plt.plot(history.history['val_accuracy'], 'ro--', label = \"val_accuracy\")\n",
    "    plt.title(\"train_acc vs val_acc\")\n",
    "    plt.ylabel(\"accuracy\")\n",
    "    plt.xlabel(\"epochs\")\n",
    "    plt.legend()\n",
    "\n",
    "    # Plot loss function\n",
    "    plt.subplot(222)\n",
    "    plt.plot(history.history['loss'],'bo--', label = \"loss\")\n",
    "    plt.plot(history.history['val_loss'], 'ro--', label = \"val_loss\")\n",
    "    plt.title(\"train_loss vs val_loss\")\n",
    "    plt.ylabel(\"loss\")\n",
    "    plt.xlabel(\"epochs\")\n",
    "\n",
    "    plt.legend()\n",
    "    plt.show()"
   ]
  },
  {
   "cell_type": "code",
   "execution_count": 10,
   "id": "c429d44d",
   "metadata": {},
   "outputs": [
    {
     "data": {
      "image/png": "[encoded data removed]",
      "text/plain": [
       "<Figure size 1000x500 with 2 Axes>"
      ]
     },
     "metadata": {},
     "output_type": "display_data"
    }
   ],
   "source": [
    "plot_accuracy_loss(history_augment)"
   ]
  },
  {
   "cell_type": "code",
   "execution_count": 11,
   "id": "e1212423",
   "metadata": {},
   "outputs": [
    {
     "name": "stdout",
     "output_type": "stream",
     "text": [
      "[0.5451006293296814, 0.7645107507705688]\n"
     ]
    }
   ],
   "source": [
    "score_augment = model_augment.evaluate(test_generator, verbose=0)\n",
    "print(score_augment)"
   ]
  },
  {
   "cell_type": "code",
   "execution_count": 12,
   "id": "ec4da923",
   "metadata": {},
   "outputs": [],
   "source": [
    "import pandas as pd\n",
    "hist_df = pd.DataFrame(history_augment.history)\n",
    "hist_df.to_excel('D:/My Scripts/Github/Poverty Estimation/VGG16/augment_Model.xlsx')"
   ]
  },
  {
   "cell_type": "code",
   "execution_count": 6,
   "id": "85e043a5",
   "metadata": {},
   "outputs": [
    {
     "name": "stdout",
     "output_type": "stream",
     "text": [
      "['top_left_x_coords', 'top_left_y_coords', 'bands_data']\n"
     ]
    }
   ],
   "source": [
    "import numpy as np\n",
    "npzfile = np.load('D:/Perkuliahan/S2/Semester 4/nightlight.npz')\n",
    "print(npzfile.files)\n",
    "top_left_x_coords = npzfile['top_left_x_coords']\n",
    "top_left_y_coords = npzfile['top_left_y_coords']\n",
    "bands_data = npzfile['bands_data']"
   ]
  },
  {
   "cell_type": "code",
   "execution_count": 7,
   "id": "f25dda65",
   "metadata": {},
   "outputs": [],
   "source": [
    "def get_cell_idx(lon, lat, top_left_x_coords, top_left_y_coords):\n",
    "    lon_idx = np.where(top_left_x_coords < lon)[0][-1]\n",
    "    lat_idx = np.where(top_left_y_coords > lat)[0][-1]\n",
    "    return lon_idx, lat_idx"
   ]
  },
  {
   "cell_type": "code",
   "execution_count": 8,
   "id": "60296dbb",
   "metadata": {},
   "outputs": [],
   "source": [
    "model_augment.load_weights('D:/My Scripts/Github/Poverty Estimation/VGG16/Augment_Model.h5')\n",
    "model_select = Model(inputs=model_augment.input, outputs=model_augment.get_layer('my_dense').output)"
   ]
  },
  {
   "cell_type": "code",
   "execution_count": 9,
   "id": "3e3ce2e5",
   "metadata": {},
   "outputs": [],
   "source": [
    "import os\n",
    "images_name = {} \n",
    "for i in range(64):\n",
    "    dir_ = 'D:/Perkuliahan/S2/Semester 4/google_images/jatengdiy/' + str(i) + '/'\n",
    "    image_files = os.listdir(dir_)\n",
    "    for f in image_files:\n",
    "        images_name[f] = i\n",
    "\n",
    "def get_input_feature_2(img_path):\n",
    "    # img = image.load_img(img_path, target_size=(400, 400))\n",
    "    img = image.load_img(img_path, target_size=(224, 224))\n",
    "    x = image.img_to_array(img)\n",
    "    x = np.expand_dims(x, axis=0)\n",
    "    x = preprocess_input(x)\n",
    "    #features = model_old.predict(x)\n",
    "    pool_features = model_select.predict(x)\n",
    "    return pool_features[0]\n",
    "\n",
    "def get_daytime_feature(sample):\n",
    "    idx, wealth, x, y = sample\n",
    "    print(idx)\n",
    "    lon_idx, lat_idx = get_cell_idx(x, y, top_left_x_coords, top_left_y_coords)\n",
    "    left_idx = lon_idx - 23\n",
    "    right_idx = lon_idx + 22\n",
    "    up_idx = lat_idx - 23\n",
    "    low_idx = lat_idx + 22\n",
    "    features_100 = []\n",
    "    for i in range(left_idx, right_idx + 1):\n",
    "        for j in range(up_idx, low_idx + 1):\n",
    "            file_name = str(i) + '_' + str(j) + '.jpg'\n",
    "            if file_name in images_name:\n",
    "                luminosity = images_name[file_name]\n",
    "                feature = get_input_feature_2('D:/Perkuliahan/S2/Semester 4/google_images/jatengdiy/' + str(luminosity) + '/' + file_name)\n",
    "                features_100.append(feature)\n",
    "    if len(features_100) == 0:\n",
    "        print('nononono: ' + str(idx))\n",
    "        return np.asarray([np.nan] * 32 + [wealth]).tolist()\n",
    "    else:\n",
    "        features_100 = np.asarray(features_100)\n",
    "        return np.append(np.mean(features_100, axis=0), wealth).tolist()"
   ]
  },
  {
   "cell_type": "code",
   "execution_count": 10,
   "id": "b33f5f49",
   "metadata": {},
   "outputs": [
    {
     "name": "stdout",
     "output_type": "stream",
     "text": [
      "Banjarnegara\n",
      "Bantul\n",
      "Banyumas\n",
      "Batang\n",
      "Blora\n",
      "Boyolali\n",
      "Brebes\n",
      "Cilacap\n",
      "Demak\n",
      "Grobogan\n",
      "Gunungkidul\n",
      "Jepara\n",
      "Karanganyar\n",
      "Kebumen\n",
      "Kendal\n",
      "Klaten\n",
      "Kota Magelang\n",
      "Kota Pekalongan\n",
      "Kota Salatiga\n",
      "Kota Semarang\n",
      "Kota Surakarta\n",
      "Kota Tegal\n",
      "Kota Yogyakarta\n",
      "Kudus\n",
      "Kulon Progo\n",
      "Magelang\n",
      "Pati\n",
      "Pekalongan\n",
      "Pemalang\n",
      "Purbalingga\n",
      "Purworejo\n",
      "Rembang\n",
      "Semarang\n",
      "Sleman\n",
      "Sragen\n",
      "Sukoharjo\n",
      "Tegal\n",
      "Temanggung\n",
      "Wonogiri\n",
      "Wonosobo\n"
     ]
    }
   ],
   "source": [
    "import pandas as pd\n",
    "from keras.preprocessing import image\n",
    "clusters = pd.read_excel('D:/Perkuliahan/S2/Semester 4/jatengdiy_coord.xlsx', sheet_name='tableau')\n",
    "clusters['feature'] = clusters.apply(lambda x: get_daytime_feature([x['Wadmkk'], x['Pengeluaran'], x['Longitude'], x['Latitude']]), axis=1)\n",
    "\n",
    "data_all = clusters['feature']\n",
    "data_all = np.asarray([i for i in data_all])\n",
    "data_all = data_all[~np.isnan(data_all).any(axis=1)]\n",
    "\n",
    "df = pd.DataFrame(data_all)\n",
    "df.to_excel('D:/My Scripts/Github/Poverty Estimation/VGG16/Augment Model Extracted.xlsx')"
   ]
  },
  {
   "cell_type": "code",
   "execution_count": null,
   "id": "b6543ef2",
   "metadata": {},
   "outputs": [],
   "source": []
  }
 ],
 "metadata": {
  "kernelspec": {
   "display_name": "Python 3 (ipykernel)",
   "language": "python",
   "name": "python3"
  },
  "language_info": {
   "codemirror_mode": {
    "name": "ipython",
    "version": 3
   },
   "file_extension": ".py",
   "mimetype": "text/x-python",
   "name": "python",
   "nbconvert_exporter": "python",
   "pygments_lexer": "ipython3",
   "version": "3.9.7"
  }
 },
 "nbformat": 4,
 "nbformat_minor": 5
}
