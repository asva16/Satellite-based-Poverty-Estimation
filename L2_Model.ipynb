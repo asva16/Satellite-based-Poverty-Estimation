{
 "cells": [
  {
   "cell_type": "code",
   "execution_count": 1,
   "metadata": {
    "id": "-PVEE6ZZ7cwm"
   },
   "outputs": [],
   "source": [
    "train_dir = 'D:/Perkuliahan/S2/Semester 4/google_images/jatengdiy_class_colab/train/'\n",
    "test_dir = 'D:/Perkuliahan/S2/Semester 4/google_images/jatengdiy_class_colab/test/'"
   ]
  },
  {
   "cell_type": "code",
   "execution_count": 2,
   "metadata": {
    "colab": {
     "base_uri": "https://localhost:8080/"
    },
    "id": "WgKj85A07eyN",
    "outputId": "31699ce4-7190-4175-dec9-9de5f2f34764"
   },
   "outputs": [
    {
     "name": "stdout",
     "output_type": "stream",
     "text": [
      "Total number of images for \"training\":\n",
      "Found 9649 images belonging to 3 classes.\n",
      "Total number of images for \"testing\":\n",
      "Found 2412 images belonging to 3 classes.\n"
     ]
    }
   ],
   "source": [
    "#Number of images to load at each iteration\n",
    "import tensorflow as tf\n",
    "from keras_preprocessing.image import ImageDataGenerator\n",
    "\n",
    "img_height, img_width = 224,224\n",
    "\n",
    "batch_size = 32\n",
    "\n",
    "train_datagen =  ImageDataGenerator(rescale=1./255)\n",
    "test_datagen =  ImageDataGenerator(rescale=1./255)\n",
    "\n",
    "# these are generators for train/test data that will read pictures #found in the defined subfolders of 'data/'\n",
    "print('Total number of images for \"training\":')\n",
    "train_generator = train_datagen.flow_from_directory(train_dir,target_size = (img_height, img_width),\n",
    "                                                    batch_size = batch_size,class_mode = \"categorical\",\n",
    "                                                    shuffle=True)\n",
    "\n",
    "print('Total number of images for \"testing\":')\n",
    "test_generator = test_datagen.flow_from_directory(test_dir,target_size = (img_height, img_width),\n",
    "                                                 batch_size = batch_size,class_mode = \"categorical\",\n",
    "                                                 shuffle=False)"
   ]
  },
  {
   "cell_type": "code",
   "execution_count": 3,
   "metadata": {
    "id": "N50Bw9Zc7iAD"
   },
   "outputs": [],
   "source": [
    "import tensorflow as tf\n",
    "from keras_preprocessing.image import ImageDataGenerator\n",
    "from keras.applications.vgg16 import VGG16 \n",
    "from keras.applications.vgg16 import preprocess_input\n",
    "from keras.layers.core import Activation\n",
    "from keras.layers.core import Flatten\n",
    "from keras.layers.core import Dense\n",
    "from keras.layers import Dropout\n",
    "from tensorflow import keras\n",
    "from keras.models import Sequential"
   ]
  },
  {
   "cell_type": "code",
   "execution_count": 4,
   "metadata": {
    "id": "wMag6C1B-752"
   },
   "outputs": [],
   "source": [
    "# Checkpoint\n",
    "from keras.callbacks import ModelCheckpoint, EarlyStopping, ReduceLROnPlateau\n",
    "checkpoint_filepath = 'D:/My Scripts/Github/Poverty Estimation/VGG16/L2_Model.h5'\n",
    "model_checkpoint_callback = keras.callbacks.ModelCheckpoint(\n",
    "    filepath=checkpoint_filepath,\n",
    "    save_weights_only=True,\n",
    "    monitor='val_loss',\n",
    "    mode='min',\n",
    "    verbose=1,\n",
    "    save_best_only=True)\n",
    "\n",
    "earlystop = EarlyStopping(monitor = 'val_loss', \n",
    "                          min_delta = 1e-5, \n",
    "                          patience = 10,\n",
    "                          verbose = 1,\n",
    "                          restore_best_weights = True)\n",
    "\n",
    "# we put our call backs into a callback list\n",
    "callbacks = [earlystop, model_checkpoint_callback]"
   ]
  },
  {
   "cell_type": "code",
   "execution_count": 5,
   "metadata": {
    "colab": {
     "base_uri": "https://localhost:8080/"
    },
    "id": "5QK5YJXd7kHa",
    "outputId": "d551ae7d-a7be-44b7-96ce-07efc2da6bfa"
   },
   "outputs": [
    {
     "name": "stdout",
     "output_type": "stream",
     "text": [
      "Model: \"sequential\"\n",
      "_________________________________________________________________\n",
      " Layer (type)                Output Shape              Param #   \n",
      "=================================================================\n",
      " vgg16 (Functional)          (None, 7, 7, 512)         14714688  \n",
      "                                                                 \n",
      " flatten (Flatten)           (None, 25088)             0         \n",
      "                                                                 \n",
      " my_dense (Dense)            (None, 32)                802848    \n",
      "                                                                 \n",
      " dense (Dense)               (None, 3)                 99        \n",
      "                                                                 \n",
      "=================================================================\n",
      "Total params: 15,517,635\n",
      "Trainable params: 7,882,371\n",
      "Non-trainable params: 7,635,264\n",
      "_________________________________________________________________\n"
     ]
    }
   ],
   "source": [
    "# Base Model\n",
    "conv_base = VGG16(weights='imagenet', include_top=False, input_shape = (img_width, img_height, 3))\n",
    "for layer in conv_base.layers[:15]:\n",
    "    layer.trainable=False\n",
    "\n",
    "for layer in conv_base.layers[15:]:\n",
    "    layer.trainable=True\n",
    "\n",
    "model_l2 = Sequential()\n",
    "model_l2.add(conv_base)\n",
    "model_l2.add(Flatten(name='flatten'))\n",
    "model_l2.add(Dense(32, name='my_dense', activation = 'relu', kernel_regularizer='l2'))\n",
    "model_l2.add(Dense(3, activation='softmax'))\n",
    "model_l2.summary()\n",
    "\n",
    "opt = tf.keras.optimizers.Adam(learning_rate=6e-4)\n",
    "model_l2.compile(loss=\"categorical_crossentropy\", optimizer=opt, metrics=[\"accuracy\"])"
   ]
  },
  {
   "cell_type": "code",
   "execution_count": 6,
   "metadata": {
    "colab": {
     "base_uri": "https://localhost:8080/"
    },
    "id": "xmd2_4ou-E3C",
    "outputId": "681420f9-cf80-455e-b814-a2805a3c3fe3"
   },
   "outputs": [
    {
     "name": "stdout",
     "output_type": "stream",
     "text": [
      "Epoch 1/100\n",
      "302/302 [==============================] - ETA: 0s - loss: 0.7677 - accuracy: 0.6869\n",
      "Epoch 1: val_loss improved from inf to 0.60460, saving model to D:/My Scripts/Github/Poverty Estimation/VGG16\\L2_Model.h5\n",
      "302/302 [==============================] - 53s 154ms/step - loss: 0.7677 - accuracy: 0.6869 - val_loss: 0.6046 - val_accuracy: 0.7446\n",
      "Epoch 2/100\n",
      "302/302 [==============================] - ETA: 0s - loss: 0.6083 - accuracy: 0.7366\n",
      "Epoch 2: val_loss did not improve from 0.60460\n",
      "302/302 [==============================] - 44s 147ms/step - loss: 0.6083 - accuracy: 0.7366 - val_loss: 0.7036 - val_accuracy: 0.7177\n",
      "Epoch 3/100\n",
      "302/302 [==============================] - ETA: 0s - loss: 0.5702 - accuracy: 0.7579\n",
      "Epoch 3: val_loss improved from 0.60460 to 0.57749, saving model to D:/My Scripts/Github/Poverty Estimation/VGG16\\L2_Model.h5\n",
      "302/302 [==============================] - 45s 148ms/step - loss: 0.5702 - accuracy: 0.7579 - val_loss: 0.5775 - val_accuracy: 0.7479\n",
      "Epoch 4/100\n",
      "302/302 [==============================] - ETA: 0s - loss: 0.5438 - accuracy: 0.7672\n",
      "Epoch 4: val_loss improved from 0.57749 to 0.57171, saving model to D:/My Scripts/Github/Poverty Estimation/VGG16\\L2_Model.h5\n",
      "302/302 [==============================] - 48s 158ms/step - loss: 0.5438 - accuracy: 0.7672 - val_loss: 0.5717 - val_accuracy: 0.7512\n",
      "Epoch 5/100\n",
      "302/302 [==============================] - ETA: 0s - loss: 0.5205 - accuracy: 0.7818\n",
      "Epoch 5: val_loss improved from 0.57171 to 0.54237, saving model to D:/My Scripts/Github/Poverty Estimation/VGG16\\L2_Model.h5\n",
      "302/302 [==============================] - 52s 172ms/step - loss: 0.5205 - accuracy: 0.7818 - val_loss: 0.5424 - val_accuracy: 0.7782\n",
      "Epoch 6/100\n",
      "302/302 [==============================] - ETA: 0s - loss: 0.4882 - accuracy: 0.7923\n",
      "Epoch 6: val_loss did not improve from 0.54237\n",
      "302/302 [==============================] - 55s 181ms/step - loss: 0.4882 - accuracy: 0.7923 - val_loss: 0.5817 - val_accuracy: 0.7587\n",
      "Epoch 7/100\n",
      "302/302 [==============================] - ETA: 0s - loss: 0.4482 - accuracy: 0.8156\n",
      "Epoch 7: val_loss did not improve from 0.54237\n",
      "302/302 [==============================] - 56s 184ms/step - loss: 0.4482 - accuracy: 0.8156 - val_loss: 0.6349 - val_accuracy: 0.7504\n",
      "Epoch 8/100\n",
      "302/302 [==============================] - ETA: 0s - loss: 0.4193 - accuracy: 0.8307\n",
      "Epoch 8: val_loss did not improve from 0.54237\n",
      "302/302 [==============================] - 58s 193ms/step - loss: 0.4193 - accuracy: 0.8307 - val_loss: 0.6668 - val_accuracy: 0.7525\n",
      "Epoch 9/100\n",
      "302/302 [==============================] - ETA: 0s - loss: 0.3688 - accuracy: 0.8549\n",
      "Epoch 9: val_loss did not improve from 0.54237\n",
      "302/302 [==============================] - 59s 196ms/step - loss: 0.3688 - accuracy: 0.8549 - val_loss: 0.6225 - val_accuracy: 0.7521\n",
      "Epoch 10/100\n",
      "302/302 [==============================] - ETA: 0s - loss: 0.3255 - accuracy: 0.8726\n",
      "Epoch 10: val_loss did not improve from 0.54237\n",
      "302/302 [==============================] - 60s 199ms/step - loss: 0.3255 - accuracy: 0.8726 - val_loss: 0.6928 - val_accuracy: 0.7459\n",
      "Epoch 11/100\n",
      "302/302 [==============================] - ETA: 0s - loss: 0.2772 - accuracy: 0.8971\n",
      "Epoch 11: val_loss did not improve from 0.54237\n",
      "302/302 [==============================] - 61s 203ms/step - loss: 0.2772 - accuracy: 0.8971 - val_loss: 0.7761 - val_accuracy: 0.7459\n",
      "Epoch 12/100\n",
      "302/302 [==============================] - ETA: 0s - loss: 0.2194 - accuracy: 0.9230\n",
      "Epoch 12: val_loss did not improve from 0.54237\n",
      "302/302 [==============================] - 62s 204ms/step - loss: 0.2194 - accuracy: 0.9230 - val_loss: 0.8511 - val_accuracy: 0.7363\n",
      "Epoch 13/100\n",
      "302/302 [==============================] - ETA: 0s - loss: 0.1952 - accuracy: 0.9342\n",
      "Epoch 13: val_loss did not improve from 0.54237\n",
      "302/302 [==============================] - 63s 209ms/step - loss: 0.1952 - accuracy: 0.9342 - val_loss: 1.0308 - val_accuracy: 0.7467\n",
      "Epoch 14/100\n",
      "302/302 [==============================] - ETA: 0s - loss: 0.1645 - accuracy: 0.9442\n",
      "Epoch 14: val_loss did not improve from 0.54237\n",
      "302/302 [==============================] - 63s 209ms/step - loss: 0.1645 - accuracy: 0.9442 - val_loss: 1.1310 - val_accuracy: 0.7235\n",
      "Epoch 15/100\n",
      "302/302 [==============================] - ETA: 0s - loss: 0.1211 - accuracy: 0.9609Restoring model weights from the end of the best epoch: 5.\n",
      "\n",
      "Epoch 15: val_loss did not improve from 0.54237\n",
      "302/302 [==============================] - 64s 213ms/step - loss: 0.1211 - accuracy: 0.9609 - val_loss: 1.1863 - val_accuracy: 0.7218\n",
      "Epoch 15: early stopping\n"
     ]
    }
   ],
   "source": [
    "history_l2 = model_l2.fit(train_generator, epochs=100, shuffle=True, validation_data=test_generator, callbacks=callbacks, \n",
    "                              verbose=1)"
   ]
  },
  {
   "cell_type": "code",
   "execution_count": 7,
   "metadata": {
    "id": "o9eH-rCH_W8W"
   },
   "outputs": [],
   "source": [
    "import matplotlib.pyplot as plt \n",
    "def plot_accuracy_loss(history):\n",
    "    \"\"\"\n",
    "        Plot the accuracy and the loss during the training of the nn.\n",
    "    \"\"\"\n",
    "    fig = plt.figure(figsize=(10,5))\n",
    "\n",
    "    # Plot accuracy\n",
    "    plt.subplot(221)\n",
    "    plt.plot(history.history['accuracy'],'bo--', label = \"accuracy\")\n",
    "    plt.plot(history.history['val_accuracy'], 'ro--', label = \"val_accuracy\")\n",
    "    plt.title(\"train_acc vs val_acc\")\n",
    "    plt.ylabel(\"accuracy\")\n",
    "    plt.xlabel(\"epochs\")\n",
    "    plt.legend()\n",
    "\n",
    "    # Plot loss function\n",
    "    plt.subplot(222)\n",
    "    plt.plot(history.history['loss'],'bo--', label = \"loss\")\n",
    "    plt.plot(history.history['val_loss'], 'ro--', label = \"val_loss\")\n",
    "    plt.title(\"train_loss vs val_loss\")\n",
    "    plt.ylabel(\"loss\")\n",
    "    plt.xlabel(\"epochs\")\n",
    "\n",
    "    plt.legend()\n",
    "    plt.show()"
   ]
  },
  {
   "cell_type": "code",
   "execution_count": 8,
   "metadata": {
    "id": "n8sMvBVL_c-W"
   },
   "outputs": [
    {
     "data": {
      "image/png": "[encoded data removed]",
      "text/plain": [
       "<Figure size 1000x500 with 2 Axes>"
      ]
     },
     "metadata": {},
     "output_type": "display_data"
    }
   ],
   "source": [
    "plot_accuracy_loss(history_l2)"
   ]
  },
  {
   "cell_type": "code",
   "execution_count": 9,
   "metadata": {
    "id": "R3hXT_H4_ewc"
   },
   "outputs": [
    {
     "name": "stdout",
     "output_type": "stream",
     "text": [
      "[0.5423663258552551, 0.778192400932312]\n"
     ]
    }
   ],
   "source": [
    "score_l2 = model_l2.evaluate(test_generator, verbose=0)\n",
    "print(score_l2)"
   ]
  },
  {
   "cell_type": "code",
   "execution_count": 10,
   "metadata": {},
   "outputs": [],
   "source": [
    "import pandas as pd\n",
    "hist_df = pd.DataFrame(history_l2.history)\n",
    "hist_df.to_excel('D:/My Scripts/Github/Poverty Estimation/VGG16/L2_Model.xlsx')"
   ]
  },
  {
   "cell_type": "code",
   "execution_count": null,
   "metadata": {},
   "outputs": [],
   "source": []
  }
 ],
 "metadata": {
  "accelerator": "GPU",
  "colab": {
   "provenance": []
  },
  "kernelspec": {
   "display_name": "Python 3 (ipykernel)",
   "language": "python",
   "name": "python3"
  },
  "language_info": {
   "codemirror_mode": {
    "name": "ipython",
    "version": 3
   },
   "file_extension": ".py",
   "mimetype": "text/x-python",
   "name": "python",
   "nbconvert_exporter": "python",
   "pygments_lexer": "ipython3",
   "version": "3.9.7"
  }
 },
 "nbformat": 4,
 "nbformat_minor": 1
}
